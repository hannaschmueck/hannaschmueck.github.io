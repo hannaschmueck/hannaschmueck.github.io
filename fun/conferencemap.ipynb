{
 "cells": [
  {
   "cell_type": "code",
   "execution_count": 5,
   "id": "37c28f34",
   "metadata": {},
   "outputs": [],
   "source": [
    "import plotly.express as px\n",
    "import pandas as pd"
   ]
  },
  {
   "cell_type": "code",
   "execution_count": 6,
   "id": "8ca5799f",
   "metadata": {},
   "outputs": [
    {
     "name": "stdout",
     "output_type": "stream",
     "text": [
      "Map created with 21 academic events from 2017 to 2025\n",
      "Countries represented:  UK, France, Germany, Ireland, Lithuania, Spain, UK\n"
     ]
    },
    {
     "data": {
      "application/vnd.microsoft.datawrangler.viewer.v0+json": {
       "columns": [
        {
         "name": "index",
         "rawType": "int64",
         "type": "integer"
        },
        {
         "name": "City",
         "rawType": "object",
         "type": "string"
        },
        {
         "name": "Country",
         "rawType": "object",
         "type": "string"
        },
        {
         "name": "Latitude",
         "rawType": "float64",
         "type": "float"
        },
        {
         "name": "Longitude",
         "rawType": "float64",
         "type": "float"
        },
        {
         "name": "Event",
         "rawType": "object",
         "type": "string"
        },
        {
         "name": "Year",
         "rawType": "int64",
         "type": "integer"
        },
        {
         "name": "Date",
         "rawType": "object",
         "type": "string"
        },
        {
         "name": "Full_Title",
         "rawType": "object",
         "type": "string"
        }
       ],
       "ref": "de339206-3ea8-4745-961a-613570809ffa",
       "rows": [
        [
         "0",
         "Banyuls-sur-Mer",
         "France",
         "42.4817",
         "3.1317",
         "École thématique d'été « Annotations »",
         "2022",
         "2022-06-01",
         "École thématique d'été « Annotations »"
        ],
        [
         "1",
         "Vilnius",
         "Lithuania",
         "54.6872",
         "25.2797",
         "ICAME 46",
         "2025",
         "2025-06-01",
         "ICAME 46"
        ],
        [
         "2",
         "Mainz",
         "Germany",
         "49.9929",
         "8.2473",
         "Brexit means Brexit? Ein Symposium",
         "2017",
         "2017-12-01",
         "Brexit means Brexit? Ein Symposium - Akademie der Wissenschaften"
        ],
        [
         "3",
         "Lancaster",
         "UK",
         "54.0098",
         "-2.7875",
         "BAAL Corpus Linguistics SIG Workshop",
         "2019",
         "2019-11-01",
         "BAAL Corpus Linguistics Special Interest Group Annual Workshop: Corpora, Discourse and Society"
        ],
        [
         "4",
         "Grenoble",
         "France",
         "45.1885",
         "5.7245",
         "Advanced Language Processing Winter School",
         "2021",
         "2021-01-01",
         "Advanced Language Processing Winter School - ALPS"
        ],
        [
         "5",
         "Lancaster",
         "UK",
         "54.0098",
         "-2.7875",
         "Machine Learning for Humanists",
         "2021",
         "2021-06-01",
         "Machine Learning for Humanists - N8 CIR"
        ],
        [
         "6",
         "Limerick",
         "Ireland",
         "52.6638",
         "-8.6267",
         "CL 2021",
         "2021",
         "2021-07-01",
         "The International Corpus Linguistics Conference 2021"
        ],
        [
         "7",
         "Cambridge",
         "UK",
         "52.2055",
         "0.121",
         "ICAME 43",
         "2022",
         "2022-07-01",
         "The 43rd Annual Conference of the International Computer Archive for Modern and Medieval English - Corpus Linguistics: A New Normal?"
        ],
        [
         "8",
         "London",
         "UK",
         "51.5074",
         "-0.1278",
         "CHIMED-3",
         "2023",
         "2023-05-01",
         "CHIMED-3, 3rd International Conference on Historical Medical Discourse"
        ],
        [
         "9",
         "Lancaster",
         "UK",
         "54.0098",
         "-2.7875",
         "CL2023",
         "2023",
         "2023-07-01",
         "CL2023, 12th International Corpus Linguistics Conference"
        ],
        [
         "10",
         "Vigo",
         "Spain",
         "42.2407",
         "-8.7207",
         "ICAME 45",
         "2024",
         "2024-06-01",
         "The 45th Annual Conference of the International Computer Archive for Modern and Medieval English - Corpus Linguistics: Interlocking Corpora and Register(s): Diversity and Innovation"
        ],
        [
         "11",
         "Lancaster",
         "UK",
         "54.0098",
         "-2.7875",
         "UCREL NLP Summer School 2024",
         "2024",
         "2024-07-01",
         "UCREL NLP Summer School 2024"
        ],
        [
         "12",
         "Manchester",
         "UK",
         "53.463",
         "-2.232",
         "Towards a National Collection Conference",
         "2024",
         "2024-11-01",
         "Towards a National Collection Conference"
        ],
        [
         "13",
         "Manchester",
         "UK",
         "53.4709",
         "-2.2953",
         "BEYOND Conference",
         "2024",
         "2024-11-01",
         "BEYOND Conference"
        ],
        [
         "14",
         "Lancaster",
         "UK",
         "54.0098",
         "-2.7875",
         "Digital Humanities Forum",
         "2024",
         "2024-12-01",
         "Digital Humanities Forum"
        ],
        [
         "15",
         "Augsburg",
         "Germany",
         "48.3529",
         "10.8865",
         "HLT Augsburg Retreat",
         "2025",
         "2025-04-01",
         "HLT Augsburg Retreat"
        ],
        [
         "16",
         "Edge Hill",
         " UK",
         "53.5583",
         "-2.8692",
         "Edge Hill Corpus Research Group",
         "2023",
         "2023-12-01",
         "Edge Hill Corpus Research Group"
        ],
        [
         "17",
         "Glasgow",
         " UK",
         "55.8718",
         "-4.2882",
         "Digital Preservation Toolkit for Community Archives Workshop",
         "2025",
         "2025-02",
         "Digital Preservation Toolkit for Community Archives"
        ],
        [
         "18",
         "Birmingham",
         "UK",
         "52.4866",
         "-1.8901",
         "CL2025",
         "2025",
         "2025-07",
         "CL2025, 13th International Corpus Linguistics Conference"
        ],
        [
         "19",
         "Bayreuth",
         "Germany",
         "49.9478",
         "11.5789",
         "CMC",
         "2025",
         "2025-09-03",
         "The 12th International Conference on CMC and Social Media Corpora for the Humanities"
        ],
        [
         "20",
         "Hildesheim",
         "Germany",
         "52.1507",
         "9.9511",
         "KONVENS",
         "2025",
         "2025-09-09",
         "Konferenz zur Verarbeitung natürlicher Sprache 2025"
        ]
       ],
       "shape": {
        "columns": 8,
        "rows": 21
       }
      },
      "text/html": [
       "<div>\n",
       "<style scoped>\n",
       "    .dataframe tbody tr th:only-of-type {\n",
       "        vertical-align: middle;\n",
       "    }\n",
       "\n",
       "    .dataframe tbody tr th {\n",
       "        vertical-align: top;\n",
       "    }\n",
       "\n",
       "    .dataframe thead th {\n",
       "        text-align: right;\n",
       "    }\n",
       "</style>\n",
       "<table border=\"1\" class=\"dataframe\">\n",
       "  <thead>\n",
       "    <tr style=\"text-align: right;\">\n",
       "      <th></th>\n",
       "      <th>City</th>\n",
       "      <th>Country</th>\n",
       "      <th>Latitude</th>\n",
       "      <th>Longitude</th>\n",
       "      <th>Event</th>\n",
       "      <th>Year</th>\n",
       "      <th>Date</th>\n",
       "      <th>Full_Title</th>\n",
       "    </tr>\n",
       "  </thead>\n",
       "  <tbody>\n",
       "    <tr>\n",
       "      <th>0</th>\n",
       "      <td>Banyuls-sur-Mer</td>\n",
       "      <td>France</td>\n",
       "      <td>42.4817</td>\n",
       "      <td>3.1317</td>\n",
       "      <td>École thématique d'été « Annotations »</td>\n",
       "      <td>2022</td>\n",
       "      <td>2022-06-01</td>\n",
       "      <td>École thématique d'été « Annotations »</td>\n",
       "    </tr>\n",
       "    <tr>\n",
       "      <th>1</th>\n",
       "      <td>Vilnius</td>\n",
       "      <td>Lithuania</td>\n",
       "      <td>54.6872</td>\n",
       "      <td>25.2797</td>\n",
       "      <td>ICAME 46</td>\n",
       "      <td>2025</td>\n",
       "      <td>2025-06-01</td>\n",
       "      <td>ICAME 46</td>\n",
       "    </tr>\n",
       "    <tr>\n",
       "      <th>2</th>\n",
       "      <td>Mainz</td>\n",
       "      <td>Germany</td>\n",
       "      <td>49.9929</td>\n",
       "      <td>8.2473</td>\n",
       "      <td>Brexit means Brexit? Ein Symposium</td>\n",
       "      <td>2017</td>\n",
       "      <td>2017-12-01</td>\n",
       "      <td>Brexit means Brexit? Ein Symposium - Akademie ...</td>\n",
       "    </tr>\n",
       "    <tr>\n",
       "      <th>3</th>\n",
       "      <td>Lancaster</td>\n",
       "      <td>UK</td>\n",
       "      <td>54.0098</td>\n",
       "      <td>-2.7875</td>\n",
       "      <td>BAAL Corpus Linguistics SIG Workshop</td>\n",
       "      <td>2019</td>\n",
       "      <td>2019-11-01</td>\n",
       "      <td>BAAL Corpus Linguistics Special Interest Group...</td>\n",
       "    </tr>\n",
       "    <tr>\n",
       "      <th>4</th>\n",
       "      <td>Grenoble</td>\n",
       "      <td>France</td>\n",
       "      <td>45.1885</td>\n",
       "      <td>5.7245</td>\n",
       "      <td>Advanced Language Processing Winter School</td>\n",
       "      <td>2021</td>\n",
       "      <td>2021-01-01</td>\n",
       "      <td>Advanced Language Processing Winter School - ALPS</td>\n",
       "    </tr>\n",
       "    <tr>\n",
       "      <th>5</th>\n",
       "      <td>Lancaster</td>\n",
       "      <td>UK</td>\n",
       "      <td>54.0098</td>\n",
       "      <td>-2.7875</td>\n",
       "      <td>Machine Learning for Humanists</td>\n",
       "      <td>2021</td>\n",
       "      <td>2021-06-01</td>\n",
       "      <td>Machine Learning for Humanists - N8 CIR</td>\n",
       "    </tr>\n",
       "    <tr>\n",
       "      <th>6</th>\n",
       "      <td>Limerick</td>\n",
       "      <td>Ireland</td>\n",
       "      <td>52.6638</td>\n",
       "      <td>-8.6267</td>\n",
       "      <td>CL 2021</td>\n",
       "      <td>2021</td>\n",
       "      <td>2021-07-01</td>\n",
       "      <td>The International Corpus Linguistics Conferenc...</td>\n",
       "    </tr>\n",
       "    <tr>\n",
       "      <th>7</th>\n",
       "      <td>Cambridge</td>\n",
       "      <td>UK</td>\n",
       "      <td>52.2055</td>\n",
       "      <td>0.1210</td>\n",
       "      <td>ICAME 43</td>\n",
       "      <td>2022</td>\n",
       "      <td>2022-07-01</td>\n",
       "      <td>The 43rd Annual Conference of the Internationa...</td>\n",
       "    </tr>\n",
       "    <tr>\n",
       "      <th>8</th>\n",
       "      <td>London</td>\n",
       "      <td>UK</td>\n",
       "      <td>51.5074</td>\n",
       "      <td>-0.1278</td>\n",
       "      <td>CHIMED-3</td>\n",
       "      <td>2023</td>\n",
       "      <td>2023-05-01</td>\n",
       "      <td>CHIMED-3, 3rd International Conference on Hist...</td>\n",
       "    </tr>\n",
       "    <tr>\n",
       "      <th>9</th>\n",
       "      <td>Lancaster</td>\n",
       "      <td>UK</td>\n",
       "      <td>54.0098</td>\n",
       "      <td>-2.7875</td>\n",
       "      <td>CL2023</td>\n",
       "      <td>2023</td>\n",
       "      <td>2023-07-01</td>\n",
       "      <td>CL2023, 12th International Corpus Linguistics ...</td>\n",
       "    </tr>\n",
       "    <tr>\n",
       "      <th>10</th>\n",
       "      <td>Vigo</td>\n",
       "      <td>Spain</td>\n",
       "      <td>42.2407</td>\n",
       "      <td>-8.7207</td>\n",
       "      <td>ICAME 45</td>\n",
       "      <td>2024</td>\n",
       "      <td>2024-06-01</td>\n",
       "      <td>The 45th Annual Conference of the Internationa...</td>\n",
       "    </tr>\n",
       "    <tr>\n",
       "      <th>11</th>\n",
       "      <td>Lancaster</td>\n",
       "      <td>UK</td>\n",
       "      <td>54.0098</td>\n",
       "      <td>-2.7875</td>\n",
       "      <td>UCREL NLP Summer School 2024</td>\n",
       "      <td>2024</td>\n",
       "      <td>2024-07-01</td>\n",
       "      <td>UCREL NLP Summer School 2024</td>\n",
       "    </tr>\n",
       "    <tr>\n",
       "      <th>12</th>\n",
       "      <td>Manchester</td>\n",
       "      <td>UK</td>\n",
       "      <td>53.4630</td>\n",
       "      <td>-2.2320</td>\n",
       "      <td>Towards a National Collection Conference</td>\n",
       "      <td>2024</td>\n",
       "      <td>2024-11-01</td>\n",
       "      <td>Towards a National Collection Conference</td>\n",
       "    </tr>\n",
       "    <tr>\n",
       "      <th>13</th>\n",
       "      <td>Manchester</td>\n",
       "      <td>UK</td>\n",
       "      <td>53.4709</td>\n",
       "      <td>-2.2953</td>\n",
       "      <td>BEYOND Conference</td>\n",
       "      <td>2024</td>\n",
       "      <td>2024-11-01</td>\n",
       "      <td>BEYOND Conference</td>\n",
       "    </tr>\n",
       "    <tr>\n",
       "      <th>14</th>\n",
       "      <td>Lancaster</td>\n",
       "      <td>UK</td>\n",
       "      <td>54.0098</td>\n",
       "      <td>-2.7875</td>\n",
       "      <td>Digital Humanities Forum</td>\n",
       "      <td>2024</td>\n",
       "      <td>2024-12-01</td>\n",
       "      <td>Digital Humanities Forum</td>\n",
       "    </tr>\n",
       "    <tr>\n",
       "      <th>15</th>\n",
       "      <td>Augsburg</td>\n",
       "      <td>Germany</td>\n",
       "      <td>48.3529</td>\n",
       "      <td>10.8865</td>\n",
       "      <td>HLT Augsburg Retreat</td>\n",
       "      <td>2025</td>\n",
       "      <td>2025-04-01</td>\n",
       "      <td>HLT Augsburg Retreat</td>\n",
       "    </tr>\n",
       "    <tr>\n",
       "      <th>16</th>\n",
       "      <td>Edge Hill</td>\n",
       "      <td>UK</td>\n",
       "      <td>53.5583</td>\n",
       "      <td>-2.8692</td>\n",
       "      <td>Edge Hill Corpus Research Group</td>\n",
       "      <td>2023</td>\n",
       "      <td>2023-12-01</td>\n",
       "      <td>Edge Hill Corpus Research Group</td>\n",
       "    </tr>\n",
       "    <tr>\n",
       "      <th>17</th>\n",
       "      <td>Glasgow</td>\n",
       "      <td>UK</td>\n",
       "      <td>55.8718</td>\n",
       "      <td>-4.2882</td>\n",
       "      <td>Digital Preservation Toolkit for Community Arc...</td>\n",
       "      <td>2025</td>\n",
       "      <td>2025-02</td>\n",
       "      <td>Digital Preservation Toolkit for Community Arc...</td>\n",
       "    </tr>\n",
       "    <tr>\n",
       "      <th>18</th>\n",
       "      <td>Birmingham</td>\n",
       "      <td>UK</td>\n",
       "      <td>52.4866</td>\n",
       "      <td>-1.8901</td>\n",
       "      <td>CL2025</td>\n",
       "      <td>2025</td>\n",
       "      <td>2025-07</td>\n",
       "      <td>CL2025, 13th International Corpus Linguistics ...</td>\n",
       "    </tr>\n",
       "    <tr>\n",
       "      <th>19</th>\n",
       "      <td>Bayreuth</td>\n",
       "      <td>Germany</td>\n",
       "      <td>49.9478</td>\n",
       "      <td>11.5789</td>\n",
       "      <td>CMC</td>\n",
       "      <td>2025</td>\n",
       "      <td>2025-09-03</td>\n",
       "      <td>The 12th International Conference on CMC and S...</td>\n",
       "    </tr>\n",
       "    <tr>\n",
       "      <th>20</th>\n",
       "      <td>Hildesheim</td>\n",
       "      <td>Germany</td>\n",
       "      <td>52.1507</td>\n",
       "      <td>9.9511</td>\n",
       "      <td>KONVENS</td>\n",
       "      <td>2025</td>\n",
       "      <td>2025-09-09</td>\n",
       "      <td>Konferenz zur Verarbeitung natürlicher Sprache...</td>\n",
       "    </tr>\n",
       "  </tbody>\n",
       "</table>\n",
       "</div>"
      ],
      "text/plain": [
       "               City    Country  Latitude  Longitude  \\\n",
       "0   Banyuls-sur-Mer     France   42.4817     3.1317   \n",
       "1           Vilnius  Lithuania   54.6872    25.2797   \n",
       "2             Mainz    Germany   49.9929     8.2473   \n",
       "3         Lancaster         UK   54.0098    -2.7875   \n",
       "4          Grenoble     France   45.1885     5.7245   \n",
       "5         Lancaster         UK   54.0098    -2.7875   \n",
       "6          Limerick    Ireland   52.6638    -8.6267   \n",
       "7         Cambridge         UK   52.2055     0.1210   \n",
       "8            London         UK   51.5074    -0.1278   \n",
       "9         Lancaster         UK   54.0098    -2.7875   \n",
       "10             Vigo      Spain   42.2407    -8.7207   \n",
       "11        Lancaster         UK   54.0098    -2.7875   \n",
       "12       Manchester         UK   53.4630    -2.2320   \n",
       "13       Manchester         UK   53.4709    -2.2953   \n",
       "14        Lancaster         UK   54.0098    -2.7875   \n",
       "15         Augsburg    Germany   48.3529    10.8865   \n",
       "16        Edge Hill         UK   53.5583    -2.8692   \n",
       "17          Glasgow         UK   55.8718    -4.2882   \n",
       "18       Birmingham         UK   52.4866    -1.8901   \n",
       "19         Bayreuth    Germany   49.9478    11.5789   \n",
       "20       Hildesheim    Germany   52.1507     9.9511   \n",
       "\n",
       "                                                Event  Year        Date  \\\n",
       "0              École thématique d'été « Annotations »  2022  2022-06-01   \n",
       "1                                            ICAME 46  2025  2025-06-01   \n",
       "2                  Brexit means Brexit? Ein Symposium  2017  2017-12-01   \n",
       "3                BAAL Corpus Linguistics SIG Workshop  2019  2019-11-01   \n",
       "4          Advanced Language Processing Winter School  2021  2021-01-01   \n",
       "5                      Machine Learning for Humanists  2021  2021-06-01   \n",
       "6                                             CL 2021  2021  2021-07-01   \n",
       "7                                            ICAME 43  2022  2022-07-01   \n",
       "8                                            CHIMED-3  2023  2023-05-01   \n",
       "9                                              CL2023  2023  2023-07-01   \n",
       "10                                           ICAME 45  2024  2024-06-01   \n",
       "11                       UCREL NLP Summer School 2024  2024  2024-07-01   \n",
       "12           Towards a National Collection Conference  2024  2024-11-01   \n",
       "13                                  BEYOND Conference  2024  2024-11-01   \n",
       "14                           Digital Humanities Forum  2024  2024-12-01   \n",
       "15                               HLT Augsburg Retreat  2025  2025-04-01   \n",
       "16                    Edge Hill Corpus Research Group  2023  2023-12-01   \n",
       "17  Digital Preservation Toolkit for Community Arc...  2025     2025-02   \n",
       "18                                             CL2025  2025     2025-07   \n",
       "19                                                CMC  2025  2025-09-03   \n",
       "20                                            KONVENS  2025  2025-09-09   \n",
       "\n",
       "                                           Full_Title  \n",
       "0              École thématique d'été « Annotations »  \n",
       "1                                            ICAME 46  \n",
       "2   Brexit means Brexit? Ein Symposium - Akademie ...  \n",
       "3   BAAL Corpus Linguistics Special Interest Group...  \n",
       "4   Advanced Language Processing Winter School - ALPS  \n",
       "5             Machine Learning for Humanists - N8 CIR  \n",
       "6   The International Corpus Linguistics Conferenc...  \n",
       "7   The 43rd Annual Conference of the Internationa...  \n",
       "8   CHIMED-3, 3rd International Conference on Hist...  \n",
       "9   CL2023, 12th International Corpus Linguistics ...  \n",
       "10  The 45th Annual Conference of the Internationa...  \n",
       "11                       UCREL NLP Summer School 2024  \n",
       "12           Towards a National Collection Conference  \n",
       "13                                  BEYOND Conference  \n",
       "14                           Digital Humanities Forum  \n",
       "15                               HLT Augsburg Retreat  \n",
       "16                    Edge Hill Corpus Research Group  \n",
       "17  Digital Preservation Toolkit for Community Arc...  \n",
       "18  CL2025, 13th International Corpus Linguistics ...  \n",
       "19  The 12th International Conference on CMC and S...  \n",
       "20  Konferenz zur Verarbeitung natürlicher Sprache...  "
      ]
     },
     "execution_count": 6,
     "metadata": {},
     "output_type": "execute_result"
    }
   ],
   "source": [
    "df = pd.read_csv('conferencemap.csv')\n",
    "\n",
    "print(f\"Map created with {len(df)} academic events from {df['Year'].min()} to {df['Year'].max()}\")\n",
    "print(f\"Countries represented: {', '.join(sorted(df['Country'].unique()))}\")\n",
    "df"
   ]
  },
  {
   "cell_type": "code",
   "execution_count": 7,
   "id": "d3b94d8c",
   "metadata": {},
   "outputs": [],
   "source": [
    "# Create a new column for location\n",
    "df['Location'] = df['City'] + ', ' + df['Country']\n",
    "# Create a new column for event count\n",
    "df['Event Count'] = df.groupby('Location')['Event'].transform('count')\n",
    "\n",
    "# Group events by location and concatenate event titles\n",
    "df_grouped = df.groupby(['Location', 'Latitude', 'Longitude'])['Event'].apply(lambda x: '<br> '.join(x)).reset_index()\n",
    "df_years = df.groupby(['Location', 'Latitude', 'Longitude'])['Year'].apply(lambda x: ', '.join(map(str, x))).reset_index()\n",
    "\n",
    "# Merge the grouped data with the original data\n",
    "df = df.merge(df_grouped, on=['Location', 'Latitude', 'Longitude'], suffixes=('', '_grouped'))\n",
    "df = df.merge(df_years, on=['Location', 'Latitude', 'Longitude'], suffixes=('', '_years'))\n",
    "df['Is_Past'] = df['Date'].apply(lambda x: pd.to_datetime(x) < pd.Timestamp('today'))"
   ]
  },
  {
   "cell_type": "code",
   "execution_count": 8,
   "id": "74bd0b7a",
   "metadata": {},
   "outputs": [
    {
     "data": {
      "application/vnd.plotly.v1+json": {
       "config": {
        "plotlyServerURL": "https://plot.ly"
       },
       "data": [
        {
         "customdata": [
          [
           "Banyuls-sur-Mer, France",
           "École thématique d'été « Annotations »",
           "2022"
          ],
          [
           "Vilnius, Lithuania",
           "ICAME 46",
           "2025"
          ],
          [
           "Mainz, Germany",
           "Brexit means Brexit? Ein Symposium",
           "2017"
          ],
          [
           "Lancaster, UK",
           "BAAL Corpus Linguistics SIG Workshop<br> Machine Learning for Humanists<br> CL2023<br> UCREL NLP Summer School 2024<br> Digital Humanities Forum",
           "2019, 2021, 2023, 2024, 2024"
          ],
          [
           "Grenoble, France",
           "Advanced Language Processing Winter School",
           "2021"
          ],
          [
           "Lancaster, UK",
           "BAAL Corpus Linguistics SIG Workshop<br> Machine Learning for Humanists<br> CL2023<br> UCREL NLP Summer School 2024<br> Digital Humanities Forum",
           "2019, 2021, 2023, 2024, 2024"
          ],
          [
           "Limerick, Ireland",
           "CL 2021",
           "2021"
          ],
          [
           "Cambridge, UK",
           "ICAME 43",
           "2022"
          ],
          [
           "London, UK",
           "CHIMED-3",
           "2023"
          ],
          [
           "Lancaster, UK",
           "BAAL Corpus Linguistics SIG Workshop<br> Machine Learning for Humanists<br> CL2023<br> UCREL NLP Summer School 2024<br> Digital Humanities Forum",
           "2019, 2021, 2023, 2024, 2024"
          ],
          [
           "Vigo, Spain",
           "ICAME 45",
           "2024"
          ],
          [
           "Lancaster, UK",
           "BAAL Corpus Linguistics SIG Workshop<br> Machine Learning for Humanists<br> CL2023<br> UCREL NLP Summer School 2024<br> Digital Humanities Forum",
           "2019, 2021, 2023, 2024, 2024"
          ],
          [
           "Manchester, UK",
           "Towards a National Collection Conference",
           "2024"
          ],
          [
           "Manchester, UK",
           "BEYOND Conference",
           "2024"
          ],
          [
           "Lancaster, UK",
           "BAAL Corpus Linguistics SIG Workshop<br> Machine Learning for Humanists<br> CL2023<br> UCREL NLP Summer School 2024<br> Digital Humanities Forum",
           "2019, 2021, 2023, 2024, 2024"
          ],
          [
           "Augsburg, Germany",
           "HLT Augsburg Retreat",
           "2025"
          ],
          [
           "Edge Hill,  UK",
           "Edge Hill Corpus Research Group",
           "2023"
          ],
          [
           "Glasgow,  UK",
           "Digital Preservation Toolkit for Community Archives Workshop",
           "2025"
          ],
          [
           "Birmingham, UK",
           "CL2025",
           "2025"
          ],
          [
           "Bayreuth, Germany",
           "CMC",
           "2025"
          ],
          [
           "Hildesheim, Germany",
           "KONVENS",
           "2025"
          ]
         ],
         "hovertemplate": "<b>%{customdata[0]}</b><br>%{customdata[1]}<br>%{customdata[2]}",
         "hovertext": [
          "Banyuls-sur-Mer, France",
          "Vilnius, Lithuania",
          "Mainz, Germany",
          "Lancaster, UK",
          "Grenoble, France",
          "Lancaster, UK",
          "Limerick, Ireland",
          "Cambridge, UK",
          "London, UK",
          "Lancaster, UK",
          "Vigo, Spain",
          "Lancaster, UK",
          "Manchester, UK",
          "Manchester, UK",
          "Lancaster, UK",
          "Augsburg, Germany",
          "Edge Hill,  UK",
          "Glasgow,  UK",
          "Birmingham, UK",
          "Bayreuth, Germany",
          "Hildesheim, Germany"
         ],
         "lat": {
          "bdata": "2T15WKg9RUDV52or9ldLQGUZ4lgX/0hAGsBbIEEBS0DjpZvEIJhGQBrAWyBBAUtA24r9ZfdUSkD8qfHSTRpKQMX+snvywElAGsBbIEEBS0DXEvJBzx5FQBrAWyBBAUtAJQaBlUO7SkDc14FzRrxKQBrAWyBBAUtAE2HD0ystSECsrdhfdsdKQI9TdCSX70tA5x2n6Eg+SkAMk6mCUflIQOzAOSNKE0pA",
          "dtype": "f8"
         },
         "legendgroup": "",
         "lon": {
          "bdata": "yxDHurgNCUDysFBrmkc5QAKaCBuefiBAzczMzMxMBsDZzvdT4+UWQM3MzMzMTAbAcM6I0t5AIcBg5dAi2/m+P+viNhrAW8C/zczMzMxMBsBUdCSX/3AhwM3MzMzMTAbAQmDl0CLbAcAGEhQ/xlwCwM3MzMzMTAbA2c73U+PFJUAydy0hH/QGwCzUmuYdJxHArrZif9k9/r8OT6+UZSgnQIJzRpT25iNA",
          "dtype": "f8"
         },
         "marker": {
          "color": [
           "#7b61a7",
           "#7b61a7",
           "#7b61a7",
           "#7b61a7",
           "#7b61a7",
           "#7b61a7",
           "#7b61a7",
           "#7b61a7",
           "#7b61a7",
           "#7b61a7",
           "#7b61a7",
           "#7b61a7",
           "#7b61a7",
           "#7b61a7",
           "#7b61a7",
           "#7b61a7",
           "#7b61a7",
           "#7b61a7",
           "#7b61a7",
           "#7b61a7",
           "orange"
          ],
          "opacity": 0.55,
          "size": {
           "bdata": "AQEBBQEFAQEBBQEFAgIFAQEBAQEB",
           "dtype": "i1"
          },
          "sizemode": "area",
          "sizeref": 0.0125
         },
         "mode": "markers",
         "name": "",
         "showlegend": false,
         "subplot": "map",
         "type": "scattermap"
        }
       ],
       "layout": {
        "font": {
         "size": 12
        },
        "height": 600,
        "legend": {
         "itemsizing": "constant",
         "tracegroupgap": 0
        },
        "map": {
         "center": {
          "lat": 51.44374761904761,
          "lon": 1.425390476190476
         },
         "domain": {
          "x": [
           0,
           1
          ],
          "y": [
           0,
           1
          ]
         },
         "style": "carto-positron",
         "zoom": 3.2
        },
        "mapbox": {
         "center": {
          "lat": 51.44374761904761,
          "lon": 1.425390476190476
         },
         "style": "carto-positron",
         "zoom": 3.2
        },
        "margin": {
         "b": 0,
         "l": 0,
         "r": 0,
         "t": 0
        },
        "showlegend": false,
        "template": {
         "data": {
          "bar": [
           {
            "error_x": {
             "color": "#2a3f5f"
            },
            "error_y": {
             "color": "#2a3f5f"
            },
            "marker": {
             "line": {
              "color": "#E5ECF6",
              "width": 0.5
             },
             "pattern": {
              "fillmode": "overlay",
              "size": 10,
              "solidity": 0.2
             }
            },
            "type": "bar"
           }
          ],
          "barpolar": [
           {
            "marker": {
             "line": {
              "color": "#E5ECF6",
              "width": 0.5
             },
             "pattern": {
              "fillmode": "overlay",
              "size": 10,
              "solidity": 0.2
             }
            },
            "type": "barpolar"
           }
          ],
          "carpet": [
           {
            "aaxis": {
             "endlinecolor": "#2a3f5f",
             "gridcolor": "white",
             "linecolor": "white",
             "minorgridcolor": "white",
             "startlinecolor": "#2a3f5f"
            },
            "baxis": {
             "endlinecolor": "#2a3f5f",
             "gridcolor": "white",
             "linecolor": "white",
             "minorgridcolor": "white",
             "startlinecolor": "#2a3f5f"
            },
            "type": "carpet"
           }
          ],
          "choropleth": [
           {
            "colorbar": {
             "outlinewidth": 0,
             "ticks": ""
            },
            "type": "choropleth"
           }
          ],
          "contour": [
           {
            "colorbar": {
             "outlinewidth": 0,
             "ticks": ""
            },
            "colorscale": [
             [
              0,
              "#0d0887"
             ],
             [
              0.1111111111111111,
              "#46039f"
             ],
             [
              0.2222222222222222,
              "#7201a8"
             ],
             [
              0.3333333333333333,
              "#9c179e"
             ],
             [
              0.4444444444444444,
              "#bd3786"
             ],
             [
              0.5555555555555556,
              "#d8576b"
             ],
             [
              0.6666666666666666,
              "#ed7953"
             ],
             [
              0.7777777777777778,
              "#fb9f3a"
             ],
             [
              0.8888888888888888,
              "#fdca26"
             ],
             [
              1,
              "#f0f921"
             ]
            ],
            "type": "contour"
           }
          ],
          "contourcarpet": [
           {
            "colorbar": {
             "outlinewidth": 0,
             "ticks": ""
            },
            "type": "contourcarpet"
           }
          ],
          "heatmap": [
           {
            "colorbar": {
             "outlinewidth": 0,
             "ticks": ""
            },
            "colorscale": [
             [
              0,
              "#0d0887"
             ],
             [
              0.1111111111111111,
              "#46039f"
             ],
             [
              0.2222222222222222,
              "#7201a8"
             ],
             [
              0.3333333333333333,
              "#9c179e"
             ],
             [
              0.4444444444444444,
              "#bd3786"
             ],
             [
              0.5555555555555556,
              "#d8576b"
             ],
             [
              0.6666666666666666,
              "#ed7953"
             ],
             [
              0.7777777777777778,
              "#fb9f3a"
             ],
             [
              0.8888888888888888,
              "#fdca26"
             ],
             [
              1,
              "#f0f921"
             ]
            ],
            "type": "heatmap"
           }
          ],
          "histogram": [
           {
            "marker": {
             "pattern": {
              "fillmode": "overlay",
              "size": 10,
              "solidity": 0.2
             }
            },
            "type": "histogram"
           }
          ],
          "histogram2d": [
           {
            "colorbar": {
             "outlinewidth": 0,
             "ticks": ""
            },
            "colorscale": [
             [
              0,
              "#0d0887"
             ],
             [
              0.1111111111111111,
              "#46039f"
             ],
             [
              0.2222222222222222,
              "#7201a8"
             ],
             [
              0.3333333333333333,
              "#9c179e"
             ],
             [
              0.4444444444444444,
              "#bd3786"
             ],
             [
              0.5555555555555556,
              "#d8576b"
             ],
             [
              0.6666666666666666,
              "#ed7953"
             ],
             [
              0.7777777777777778,
              "#fb9f3a"
             ],
             [
              0.8888888888888888,
              "#fdca26"
             ],
             [
              1,
              "#f0f921"
             ]
            ],
            "type": "histogram2d"
           }
          ],
          "histogram2dcontour": [
           {
            "colorbar": {
             "outlinewidth": 0,
             "ticks": ""
            },
            "colorscale": [
             [
              0,
              "#0d0887"
             ],
             [
              0.1111111111111111,
              "#46039f"
             ],
             [
              0.2222222222222222,
              "#7201a8"
             ],
             [
              0.3333333333333333,
              "#9c179e"
             ],
             [
              0.4444444444444444,
              "#bd3786"
             ],
             [
              0.5555555555555556,
              "#d8576b"
             ],
             [
              0.6666666666666666,
              "#ed7953"
             ],
             [
              0.7777777777777778,
              "#fb9f3a"
             ],
             [
              0.8888888888888888,
              "#fdca26"
             ],
             [
              1,
              "#f0f921"
             ]
            ],
            "type": "histogram2dcontour"
           }
          ],
          "mesh3d": [
           {
            "colorbar": {
             "outlinewidth": 0,
             "ticks": ""
            },
            "type": "mesh3d"
           }
          ],
          "parcoords": [
           {
            "line": {
             "colorbar": {
              "outlinewidth": 0,
              "ticks": ""
             }
            },
            "type": "parcoords"
           }
          ],
          "pie": [
           {
            "automargin": true,
            "type": "pie"
           }
          ],
          "scatter": [
           {
            "fillpattern": {
             "fillmode": "overlay",
             "size": 10,
             "solidity": 0.2
            },
            "type": "scatter"
           }
          ],
          "scatter3d": [
           {
            "line": {
             "colorbar": {
              "outlinewidth": 0,
              "ticks": ""
             }
            },
            "marker": {
             "colorbar": {
              "outlinewidth": 0,
              "ticks": ""
             }
            },
            "type": "scatter3d"
           }
          ],
          "scattercarpet": [
           {
            "marker": {
             "colorbar": {
              "outlinewidth": 0,
              "ticks": ""
             }
            },
            "type": "scattercarpet"
           }
          ],
          "scattergeo": [
           {
            "marker": {
             "colorbar": {
              "outlinewidth": 0,
              "ticks": ""
             }
            },
            "type": "scattergeo"
           }
          ],
          "scattergl": [
           {
            "marker": {
             "colorbar": {
              "outlinewidth": 0,
              "ticks": ""
             }
            },
            "type": "scattergl"
           }
          ],
          "scattermap": [
           {
            "marker": {
             "colorbar": {
              "outlinewidth": 0,
              "ticks": ""
             }
            },
            "type": "scattermap"
           }
          ],
          "scattermapbox": [
           {
            "marker": {
             "colorbar": {
              "outlinewidth": 0,
              "ticks": ""
             }
            },
            "type": "scattermapbox"
           }
          ],
          "scatterpolar": [
           {
            "marker": {
             "colorbar": {
              "outlinewidth": 0,
              "ticks": ""
             }
            },
            "type": "scatterpolar"
           }
          ],
          "scatterpolargl": [
           {
            "marker": {
             "colorbar": {
              "outlinewidth": 0,
              "ticks": ""
             }
            },
            "type": "scatterpolargl"
           }
          ],
          "scatterternary": [
           {
            "marker": {
             "colorbar": {
              "outlinewidth": 0,
              "ticks": ""
             }
            },
            "type": "scatterternary"
           }
          ],
          "surface": [
           {
            "colorbar": {
             "outlinewidth": 0,
             "ticks": ""
            },
            "colorscale": [
             [
              0,
              "#0d0887"
             ],
             [
              0.1111111111111111,
              "#46039f"
             ],
             [
              0.2222222222222222,
              "#7201a8"
             ],
             [
              0.3333333333333333,
              "#9c179e"
             ],
             [
              0.4444444444444444,
              "#bd3786"
             ],
             [
              0.5555555555555556,
              "#d8576b"
             ],
             [
              0.6666666666666666,
              "#ed7953"
             ],
             [
              0.7777777777777778,
              "#fb9f3a"
             ],
             [
              0.8888888888888888,
              "#fdca26"
             ],
             [
              1,
              "#f0f921"
             ]
            ],
            "type": "surface"
           }
          ],
          "table": [
           {
            "cells": {
             "fill": {
              "color": "#EBF0F8"
             },
             "line": {
              "color": "white"
             }
            },
            "header": {
             "fill": {
              "color": "#C8D4E3"
             },
             "line": {
              "color": "white"
             }
            },
            "type": "table"
           }
          ]
         },
         "layout": {
          "annotationdefaults": {
           "arrowcolor": "#2a3f5f",
           "arrowhead": 0,
           "arrowwidth": 1
          },
          "autotypenumbers": "strict",
          "coloraxis": {
           "colorbar": {
            "outlinewidth": 0,
            "ticks": ""
           }
          },
          "colorscale": {
           "diverging": [
            [
             0,
             "#8e0152"
            ],
            [
             0.1,
             "#c51b7d"
            ],
            [
             0.2,
             "#de77ae"
            ],
            [
             0.3,
             "#f1b6da"
            ],
            [
             0.4,
             "#fde0ef"
            ],
            [
             0.5,
             "#f7f7f7"
            ],
            [
             0.6,
             "#e6f5d0"
            ],
            [
             0.7,
             "#b8e186"
            ],
            [
             0.8,
             "#7fbc41"
            ],
            [
             0.9,
             "#4d9221"
            ],
            [
             1,
             "#276419"
            ]
           ],
           "sequential": [
            [
             0,
             "#0d0887"
            ],
            [
             0.1111111111111111,
             "#46039f"
            ],
            [
             0.2222222222222222,
             "#7201a8"
            ],
            [
             0.3333333333333333,
             "#9c179e"
            ],
            [
             0.4444444444444444,
             "#bd3786"
            ],
            [
             0.5555555555555556,
             "#d8576b"
            ],
            [
             0.6666666666666666,
             "#ed7953"
            ],
            [
             0.7777777777777778,
             "#fb9f3a"
            ],
            [
             0.8888888888888888,
             "#fdca26"
            ],
            [
             1,
             "#f0f921"
            ]
           ],
           "sequentialminus": [
            [
             0,
             "#0d0887"
            ],
            [
             0.1111111111111111,
             "#46039f"
            ],
            [
             0.2222222222222222,
             "#7201a8"
            ],
            [
             0.3333333333333333,
             "#9c179e"
            ],
            [
             0.4444444444444444,
             "#bd3786"
            ],
            [
             0.5555555555555556,
             "#d8576b"
            ],
            [
             0.6666666666666666,
             "#ed7953"
            ],
            [
             0.7777777777777778,
             "#fb9f3a"
            ],
            [
             0.8888888888888888,
             "#fdca26"
            ],
            [
             1,
             "#f0f921"
            ]
           ]
          },
          "colorway": [
           "#636efa",
           "#EF553B",
           "#00cc96",
           "#ab63fa",
           "#FFA15A",
           "#19d3f3",
           "#FF6692",
           "#B6E880",
           "#FF97FF",
           "#FECB52"
          ],
          "font": {
           "color": "#2a3f5f"
          },
          "geo": {
           "bgcolor": "white",
           "lakecolor": "white",
           "landcolor": "#E5ECF6",
           "showlakes": true,
           "showland": true,
           "subunitcolor": "white"
          },
          "hoverlabel": {
           "align": "left"
          },
          "hovermode": "closest",
          "mapbox": {
           "style": "light"
          },
          "paper_bgcolor": "white",
          "plot_bgcolor": "#E5ECF6",
          "polar": {
           "angularaxis": {
            "gridcolor": "white",
            "linecolor": "white",
            "ticks": ""
           },
           "bgcolor": "#E5ECF6",
           "radialaxis": {
            "gridcolor": "white",
            "linecolor": "white",
            "ticks": ""
           }
          },
          "scene": {
           "xaxis": {
            "backgroundcolor": "#E5ECF6",
            "gridcolor": "white",
            "gridwidth": 2,
            "linecolor": "white",
            "showbackground": true,
            "ticks": "",
            "zerolinecolor": "white"
           },
           "yaxis": {
            "backgroundcolor": "#E5ECF6",
            "gridcolor": "white",
            "gridwidth": 2,
            "linecolor": "white",
            "showbackground": true,
            "ticks": "",
            "zerolinecolor": "white"
           },
           "zaxis": {
            "backgroundcolor": "#E5ECF6",
            "gridcolor": "white",
            "gridwidth": 2,
            "linecolor": "white",
            "showbackground": true,
            "ticks": "",
            "zerolinecolor": "white"
           }
          },
          "shapedefaults": {
           "line": {
            "color": "#2a3f5f"
           }
          },
          "ternary": {
           "aaxis": {
            "gridcolor": "white",
            "linecolor": "white",
            "ticks": ""
           },
           "baxis": {
            "gridcolor": "white",
            "linecolor": "white",
            "ticks": ""
           },
           "bgcolor": "#E5ECF6",
           "caxis": {
            "gridcolor": "white",
            "linecolor": "white",
            "ticks": ""
           }
          },
          "title": {
           "x": 0.05
          },
          "xaxis": {
           "automargin": true,
           "gridcolor": "white",
           "linecolor": "white",
           "ticks": "",
           "title": {
            "standoff": 15
           },
           "zerolinecolor": "white",
           "zerolinewidth": 2
          },
          "yaxis": {
           "automargin": true,
           "gridcolor": "white",
           "linecolor": "white",
           "ticks": "",
           "title": {
            "standoff": 15
           },
           "zerolinecolor": "white",
           "zerolinewidth": 2
          }
         }
        },
        "width": 800
       }
      }
     },
     "metadata": {},
     "output_type": "display_data"
    }
   ],
   "source": [
    "\n",
    "\n",
    "# Create the map\n",
    "fig = px.scatter_map(\n",
    "    df,\n",
    "    lat='Latitude',\n",
    "    lon='Longitude',\n",
    "    hover_name='Location',\n",
    "    hover_data={\n",
    "        'Location': True,\n",
    "        'Event_grouped': True,\n",
    "        'Year_years': True\n",
    "    },\n",
    "    size='Event Count',\n",
    "    width=800,\n",
    "    height=600,\n",
    "    zoom=3.2,\n",
    "    map_style= 'carto-positron'\n",
    "    )\n",
    "\n",
    "# Update marker styling\n",
    "fig.update_traces(\n",
    "    marker=dict(\n",
    "        opacity=0.55,\n",
    "        color=[ \"#7b61a7\" if x else \"orange\" for x in df[\"Is_Past\"]]\n",
    "    ),\n",
    "    hovertemplate='<b>%{customdata[0]}</b>'+\n",
    "                  '<br>%{customdata[1]}'+\n",
    "                  '<br>%{customdata[2]}'\n",
    ")\n",
    "\n",
    "# Update layout for better aesthetics\n",
    "fig.update_layout(\n",
    "    font=dict(size=12),\n",
    "    margin=dict(l=0, r=0, t=0, b=0),\n",
    "    showlegend=False  # Hide the legend\n",
    ")\n",
    "\n",
    "# Show the map\n",
    "fig.show()\n",
    "fig.write_html(\"conferencemap.html\")\n"
   ]
  }
 ],
 "metadata": {
  "kernelspec": {
   "display_name": "Python 3",
   "language": "python",
   "name": "python3"
  },
  "language_info": {
   "codemirror_mode": {
    "name": "ipython",
    "version": 3
   },
   "file_extension": ".py",
   "mimetype": "text/x-python",
   "name": "python",
   "nbconvert_exporter": "python",
   "pygments_lexer": "ipython3",
   "version": "3.11.9"
  }
 },
 "nbformat": 4,
 "nbformat_minor": 5
}
