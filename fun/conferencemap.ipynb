{
 "cells": [
  {
   "cell_type": "code",
   "execution_count": 1,
   "id": "37c28f34",
   "metadata": {},
   "outputs": [],
   "source": [
    "import plotly.express as px\n",
    "import pandas as pd"
   ]
  },
  {
   "cell_type": "code",
   "execution_count": 2,
   "id": "8ca5799f",
   "metadata": {},
   "outputs": [
    {
     "name": "stdout",
     "output_type": "stream",
     "text": [
      "Map created with 19 academic events from 2017 to 2025\n",
      "Countries represented:  UK, France, Germany, Ireland, Lithuania, Spain, UK\n"
     ]
    }
   ],
   "source": [
    "df = pd.read_csv('conferencemap.csv')\n",
    "\n",
    "print(f\"Map created with {len(df)} academic events from {df['Year'].min()} to {df['Year'].max()}\")\n",
    "print(f\"Countries represented: {', '.join(sorted(df['Country'].unique()))}\")"
   ]
  },
  {
   "cell_type": "code",
   "execution_count": 3,
   "id": "d3b94d8c",
   "metadata": {},
   "outputs": [],
   "source": [
    "# Create a new column for location\n",
    "df['Location'] = df['City'] + ', ' + df['Country']\n",
    "# Create a new column for event count\n",
    "df['Event Count'] = df.groupby('Location')['Event'].transform('count')\n",
    "\n",
    "# Group events by location and concatenate event titles\n",
    "df_grouped = df.groupby(['Location', 'Latitude', 'Longitude'])['Event'].apply(lambda x: '<br> '.join(x)).reset_index()\n",
    "df_years = df.groupby(['Location', 'Latitude', 'Longitude'])['Year'].apply(lambda x: ', '.join(map(str, x))).reset_index()\n",
    "\n",
    "# Merge the grouped data with the original data\n",
    "df = df.merge(df_grouped, on=['Location', 'Latitude', 'Longitude'], suffixes=('', '_grouped'))\n",
    "df = df.merge(df_years, on=['Location', 'Latitude', 'Longitude'], suffixes=('', '_years'))"
   ]
  },
  {
   "cell_type": "code",
   "execution_count": 4,
   "id": "74bd0b7a",
   "metadata": {},
   "outputs": [
    {
     "data": {
      "application/vnd.plotly.v1+json": {
       "config": {
        "plotlyServerURL": "https://plot.ly"
       },
       "data": [
        {
         "customdata": [
          [
           "Banyuls-sur-Mer, France",
           "École thématique d'été « Annotations »",
           "2022"
          ],
          [
           "Vilnius, Lithuania",
           "ICAME 46",
           "2025"
          ],
          [
           "Mainz, Germany",
           "Brexit means Brexit? Ein Symposium",
           "2017"
          ],
          [
           "Lancaster, UK",
           "BAAL Corpus Linguistics SIG Workshop<br> Machine Learning for Humanists<br> CL2023<br> UCREL NLP Summer School 2024<br> Digital Humanities Forum",
           "2019, 2021, 2023, 2024, 2024"
          ],
          [
           "Grenoble, France",
           "Advanced Language Processing Winter School",
           "2021"
          ],
          [
           "Lancaster, UK",
           "BAAL Corpus Linguistics SIG Workshop<br> Machine Learning for Humanists<br> CL2023<br> UCREL NLP Summer School 2024<br> Digital Humanities Forum",
           "2019, 2021, 2023, 2024, 2024"
          ],
          [
           "Limerick, Ireland",
           "CL 2021",
           "2021"
          ],
          [
           "Cambridge, UK",
           "ICAME 43",
           "2022"
          ],
          [
           "London, UK",
           "CHIMED-3",
           "2023"
          ],
          [
           "Lancaster, UK",
           "BAAL Corpus Linguistics SIG Workshop<br> Machine Learning for Humanists<br> CL2023<br> UCREL NLP Summer School 2024<br> Digital Humanities Forum",
           "2019, 2021, 2023, 2024, 2024"
          ],
          [
           "Vigo, Spain",
           "ICAME 45",
           "2024"
          ],
          [
           "Lancaster, UK",
           "BAAL Corpus Linguistics SIG Workshop<br> Machine Learning for Humanists<br> CL2023<br> UCREL NLP Summer School 2024<br> Digital Humanities Forum",
           "2019, 2021, 2023, 2024, 2024"
          ],
          [
           "Manchester, UK",
           "Towards a National Collection Conference",
           "2024"
          ],
          [
           "Manchester, UK",
           "BEYOND Conference",
           "2024"
          ],
          [
           "Lancaster, UK",
           "BAAL Corpus Linguistics SIG Workshop<br> Machine Learning for Humanists<br> CL2023<br> UCREL NLP Summer School 2024<br> Digital Humanities Forum",
           "2019, 2021, 2023, 2024, 2024"
          ],
          [
           "Augsburg, Germany",
           "HLT Augsburg Retreat",
           "2025"
          ],
          [
           "Edge Hill,  UK",
           "Edge Hill Corpus Research Group",
           "2023"
          ],
          [
           "Glasgow,  UK",
           "Digital Preservation Toolkit for Community Archives Workshop",
           "2025"
          ],
          [
           "Birmingham, UK",
           "CL2025",
           "2025"
          ]
         ],
         "hovertemplate": "<b>%{customdata[0]}</b><br>%{customdata[1]}<br>%{customdata[2]}",
         "hovertext": [
          "Banyuls-sur-Mer, France",
          "Vilnius, Lithuania",
          "Mainz, Germany",
          "Lancaster, UK",
          "Grenoble, France",
          "Lancaster, UK",
          "Limerick, Ireland",
          "Cambridge, UK",
          "London, UK",
          "Lancaster, UK",
          "Vigo, Spain",
          "Lancaster, UK",
          "Manchester, UK",
          "Manchester, UK",
          "Lancaster, UK",
          "Augsburg, Germany",
          "Edge Hill,  UK",
          "Glasgow,  UK",
          "Birmingham, UK"
         ],
         "lat": {
          "bdata": "2T15WKg9RUDV52or9ldLQGUZ4lgX/0hAGsBbIEEBS0DjpZvEIJhGQBrAWyBBAUtA24r9ZfdUSkD8qfHSTRpKQMX+snvywElAGsBbIEEBS0DXEvJBzx5FQBrAWyBBAUtAJQaBlUO7SkDc14FzRrxKQBrAWyBBAUtAE2HD0ystSECsrdhfdsdKQI9TdCSX70tA5x2n6Eg+SkA=",
          "dtype": "f8"
         },
         "legendgroup": "",
         "lon": {
          "bdata": "yxDHurgNCUDysFBrmkc5QAKaCBuefiBAzczMzMxMBsDZzvdT4+UWQM3MzMzMTAbAcM6I0t5AIcBg5dAi2/m+P+viNhrAW8C/zczMzMxMBsBUdCSX/3AhwM3MzMzMTAbAQmDl0CLbAcAGEhQ/xlwCwM3MzMzMTAbA2c73U+PFJUAydy0hH/QGwCzUmuYdJxHArrZif9k9/r8=",
          "dtype": "f8"
         },
         "marker": {
          "color": "#7b61a7",
          "opacity": 0.55,
          "size": {
           "bdata": "AQEBBQEFAQEBBQEFAgIFAQEBAQ==",
           "dtype": "i1"
          },
          "sizemode": "area",
          "sizeref": 0.0125
         },
         "mode": "markers",
         "name": "",
         "showlegend": false,
         "subplot": "map",
         "type": "scattermap"
        }
       ],
       "layout": {
        "font": {
         "size": 12
        },
        "height": 600,
        "legend": {
         "itemsizing": "constant",
         "tracegroupgap": 0
        },
        "map": {
         "center": {
          "lat": 51.485273684210526,
          "lon": 0.4422736842105262
         },
         "domain": {
          "x": [
           0,
           1
          ],
          "y": [
           0,
           1
          ]
         },
         "style": "carto-positron",
         "zoom": 3.2
        },
        "mapbox": {
         "center": {
          "lat": 51.485273684210526,
          "lon": 0.4422736842105262
         },
         "style": "carto-positron",
         "zoom": 3.2
        },
        "margin": {
         "b": 0,
         "l": 0,
         "r": 0,
         "t": 0
        },
        "showlegend": false,
        "template": {
         "data": {
          "bar": [
           {
            "error_x": {
             "color": "#2a3f5f"
            },
            "error_y": {
             "color": "#2a3f5f"
            },
            "marker": {
             "line": {
              "color": "#E5ECF6",
              "width": 0.5
             },
             "pattern": {
              "fillmode": "overlay",
              "size": 10,
              "solidity": 0.2
             }
            },
            "type": "bar"
           }
          ],
          "barpolar": [
           {
            "marker": {
             "line": {
              "color": "#E5ECF6",
              "width": 0.5
             },
             "pattern": {
              "fillmode": "overlay",
              "size": 10,
              "solidity": 0.2
             }
            },
            "type": "barpolar"
           }
          ],
          "carpet": [
           {
            "aaxis": {
             "endlinecolor": "#2a3f5f",
             "gridcolor": "white",
             "linecolor": "white",
             "minorgridcolor": "white",
             "startlinecolor": "#2a3f5f"
            },
            "baxis": {
             "endlinecolor": "#2a3f5f",
             "gridcolor": "white",
             "linecolor": "white",
             "minorgridcolor": "white",
             "startlinecolor": "#2a3f5f"
            },
            "type": "carpet"
           }
          ],
          "choropleth": [
           {
            "colorbar": {
             "outlinewidth": 0,
             "ticks": ""
            },
            "type": "choropleth"
           }
          ],
          "contour": [
           {
            "colorbar": {
             "outlinewidth": 0,
             "ticks": ""
            },
            "colorscale": [
             [
              0,
              "#0d0887"
             ],
             [
              0.1111111111111111,
              "#46039f"
             ],
             [
              0.2222222222222222,
              "#7201a8"
             ],
             [
              0.3333333333333333,
              "#9c179e"
             ],
             [
              0.4444444444444444,
              "#bd3786"
             ],
             [
              0.5555555555555556,
              "#d8576b"
             ],
             [
              0.6666666666666666,
              "#ed7953"
             ],
             [
              0.7777777777777778,
              "#fb9f3a"
             ],
             [
              0.8888888888888888,
              "#fdca26"
             ],
             [
              1,
              "#f0f921"
             ]
            ],
            "type": "contour"
           }
          ],
          "contourcarpet": [
           {
            "colorbar": {
             "outlinewidth": 0,
             "ticks": ""
            },
            "type": "contourcarpet"
           }
          ],
          "heatmap": [
           {
            "colorbar": {
             "outlinewidth": 0,
             "ticks": ""
            },
            "colorscale": [
             [
              0,
              "#0d0887"
             ],
             [
              0.1111111111111111,
              "#46039f"
             ],
             [
              0.2222222222222222,
              "#7201a8"
             ],
             [
              0.3333333333333333,
              "#9c179e"
             ],
             [
              0.4444444444444444,
              "#bd3786"
             ],
             [
              0.5555555555555556,
              "#d8576b"
             ],
             [
              0.6666666666666666,
              "#ed7953"
             ],
             [
              0.7777777777777778,
              "#fb9f3a"
             ],
             [
              0.8888888888888888,
              "#fdca26"
             ],
             [
              1,
              "#f0f921"
             ]
            ],
            "type": "heatmap"
           }
          ],
          "histogram": [
           {
            "marker": {
             "pattern": {
              "fillmode": "overlay",
              "size": 10,
              "solidity": 0.2
             }
            },
            "type": "histogram"
           }
          ],
          "histogram2d": [
           {
            "colorbar": {
             "outlinewidth": 0,
             "ticks": ""
            },
            "colorscale": [
             [
              0,
              "#0d0887"
             ],
             [
              0.1111111111111111,
              "#46039f"
             ],
             [
              0.2222222222222222,
              "#7201a8"
             ],
             [
              0.3333333333333333,
              "#9c179e"
             ],
             [
              0.4444444444444444,
              "#bd3786"
             ],
             [
              0.5555555555555556,
              "#d8576b"
             ],
             [
              0.6666666666666666,
              "#ed7953"
             ],
             [
              0.7777777777777778,
              "#fb9f3a"
             ],
             [
              0.8888888888888888,
              "#fdca26"
             ],
             [
              1,
              "#f0f921"
             ]
            ],
            "type": "histogram2d"
           }
          ],
          "histogram2dcontour": [
           {
            "colorbar": {
             "outlinewidth": 0,
             "ticks": ""
            },
            "colorscale": [
             [
              0,
              "#0d0887"
             ],
             [
              0.1111111111111111,
              "#46039f"
             ],
             [
              0.2222222222222222,
              "#7201a8"
             ],
             [
              0.3333333333333333,
              "#9c179e"
             ],
             [
              0.4444444444444444,
              "#bd3786"
             ],
             [
              0.5555555555555556,
              "#d8576b"
             ],
             [
              0.6666666666666666,
              "#ed7953"
             ],
             [
              0.7777777777777778,
              "#fb9f3a"
             ],
             [
              0.8888888888888888,
              "#fdca26"
             ],
             [
              1,
              "#f0f921"
             ]
            ],
            "type": "histogram2dcontour"
           }
          ],
          "mesh3d": [
           {
            "colorbar": {
             "outlinewidth": 0,
             "ticks": ""
            },
            "type": "mesh3d"
           }
          ],
          "parcoords": [
           {
            "line": {
             "colorbar": {
              "outlinewidth": 0,
              "ticks": ""
             }
            },
            "type": "parcoords"
           }
          ],
          "pie": [
           {
            "automargin": true,
            "type": "pie"
           }
          ],
          "scatter": [
           {
            "fillpattern": {
             "fillmode": "overlay",
             "size": 10,
             "solidity": 0.2
            },
            "type": "scatter"
           }
          ],
          "scatter3d": [
           {
            "line": {
             "colorbar": {
              "outlinewidth": 0,
              "ticks": ""
             }
            },
            "marker": {
             "colorbar": {
              "outlinewidth": 0,
              "ticks": ""
             }
            },
            "type": "scatter3d"
           }
          ],
          "scattercarpet": [
           {
            "marker": {
             "colorbar": {
              "outlinewidth": 0,
              "ticks": ""
             }
            },
            "type": "scattercarpet"
           }
          ],
          "scattergeo": [
           {
            "marker": {
             "colorbar": {
              "outlinewidth": 0,
              "ticks": ""
             }
            },
            "type": "scattergeo"
           }
          ],
          "scattergl": [
           {
            "marker": {
             "colorbar": {
              "outlinewidth": 0,
              "ticks": ""
             }
            },
            "type": "scattergl"
           }
          ],
          "scattermap": [
           {
            "marker": {
             "colorbar": {
              "outlinewidth": 0,
              "ticks": ""
             }
            },
            "type": "scattermap"
           }
          ],
          "scattermapbox": [
           {
            "marker": {
             "colorbar": {
              "outlinewidth": 0,
              "ticks": ""
             }
            },
            "type": "scattermapbox"
           }
          ],
          "scatterpolar": [
           {
            "marker": {
             "colorbar": {
              "outlinewidth": 0,
              "ticks": ""
             }
            },
            "type": "scatterpolar"
           }
          ],
          "scatterpolargl": [
           {
            "marker": {
             "colorbar": {
              "outlinewidth": 0,
              "ticks": ""
             }
            },
            "type": "scatterpolargl"
           }
          ],
          "scatterternary": [
           {
            "marker": {
             "colorbar": {
              "outlinewidth": 0,
              "ticks": ""
             }
            },
            "type": "scatterternary"
           }
          ],
          "surface": [
           {
            "colorbar": {
             "outlinewidth": 0,
             "ticks": ""
            },
            "colorscale": [
             [
              0,
              "#0d0887"
             ],
             [
              0.1111111111111111,
              "#46039f"
             ],
             [
              0.2222222222222222,
              "#7201a8"
             ],
             [
              0.3333333333333333,
              "#9c179e"
             ],
             [
              0.4444444444444444,
              "#bd3786"
             ],
             [
              0.5555555555555556,
              "#d8576b"
             ],
             [
              0.6666666666666666,
              "#ed7953"
             ],
             [
              0.7777777777777778,
              "#fb9f3a"
             ],
             [
              0.8888888888888888,
              "#fdca26"
             ],
             [
              1,
              "#f0f921"
             ]
            ],
            "type": "surface"
           }
          ],
          "table": [
           {
            "cells": {
             "fill": {
              "color": "#EBF0F8"
             },
             "line": {
              "color": "white"
             }
            },
            "header": {
             "fill": {
              "color": "#C8D4E3"
             },
             "line": {
              "color": "white"
             }
            },
            "type": "table"
           }
          ]
         },
         "layout": {
          "annotationdefaults": {
           "arrowcolor": "#2a3f5f",
           "arrowhead": 0,
           "arrowwidth": 1
          },
          "autotypenumbers": "strict",
          "coloraxis": {
           "colorbar": {
            "outlinewidth": 0,
            "ticks": ""
           }
          },
          "colorscale": {
           "diverging": [
            [
             0,
             "#8e0152"
            ],
            [
             0.1,
             "#c51b7d"
            ],
            [
             0.2,
             "#de77ae"
            ],
            [
             0.3,
             "#f1b6da"
            ],
            [
             0.4,
             "#fde0ef"
            ],
            [
             0.5,
             "#f7f7f7"
            ],
            [
             0.6,
             "#e6f5d0"
            ],
            [
             0.7,
             "#b8e186"
            ],
            [
             0.8,
             "#7fbc41"
            ],
            [
             0.9,
             "#4d9221"
            ],
            [
             1,
             "#276419"
            ]
           ],
           "sequential": [
            [
             0,
             "#0d0887"
            ],
            [
             0.1111111111111111,
             "#46039f"
            ],
            [
             0.2222222222222222,
             "#7201a8"
            ],
            [
             0.3333333333333333,
             "#9c179e"
            ],
            [
             0.4444444444444444,
             "#bd3786"
            ],
            [
             0.5555555555555556,
             "#d8576b"
            ],
            [
             0.6666666666666666,
             "#ed7953"
            ],
            [
             0.7777777777777778,
             "#fb9f3a"
            ],
            [
             0.8888888888888888,
             "#fdca26"
            ],
            [
             1,
             "#f0f921"
            ]
           ],
           "sequentialminus": [
            [
             0,
             "#0d0887"
            ],
            [
             0.1111111111111111,
             "#46039f"
            ],
            [
             0.2222222222222222,
             "#7201a8"
            ],
            [
             0.3333333333333333,
             "#9c179e"
            ],
            [
             0.4444444444444444,
             "#bd3786"
            ],
            [
             0.5555555555555556,
             "#d8576b"
            ],
            [
             0.6666666666666666,
             "#ed7953"
            ],
            [
             0.7777777777777778,
             "#fb9f3a"
            ],
            [
             0.8888888888888888,
             "#fdca26"
            ],
            [
             1,
             "#f0f921"
            ]
           ]
          },
          "colorway": [
           "#636efa",
           "#EF553B",
           "#00cc96",
           "#ab63fa",
           "#FFA15A",
           "#19d3f3",
           "#FF6692",
           "#B6E880",
           "#FF97FF",
           "#FECB52"
          ],
          "font": {
           "color": "#2a3f5f"
          },
          "geo": {
           "bgcolor": "white",
           "lakecolor": "white",
           "landcolor": "#E5ECF6",
           "showlakes": true,
           "showland": true,
           "subunitcolor": "white"
          },
          "hoverlabel": {
           "align": "left"
          },
          "hovermode": "closest",
          "mapbox": {
           "style": "light"
          },
          "paper_bgcolor": "white",
          "plot_bgcolor": "#E5ECF6",
          "polar": {
           "angularaxis": {
            "gridcolor": "white",
            "linecolor": "white",
            "ticks": ""
           },
           "bgcolor": "#E5ECF6",
           "radialaxis": {
            "gridcolor": "white",
            "linecolor": "white",
            "ticks": ""
           }
          },
          "scene": {
           "xaxis": {
            "backgroundcolor": "#E5ECF6",
            "gridcolor": "white",
            "gridwidth": 2,
            "linecolor": "white",
            "showbackground": true,
            "ticks": "",
            "zerolinecolor": "white"
           },
           "yaxis": {
            "backgroundcolor": "#E5ECF6",
            "gridcolor": "white",
            "gridwidth": 2,
            "linecolor": "white",
            "showbackground": true,
            "ticks": "",
            "zerolinecolor": "white"
           },
           "zaxis": {
            "backgroundcolor": "#E5ECF6",
            "gridcolor": "white",
            "gridwidth": 2,
            "linecolor": "white",
            "showbackground": true,
            "ticks": "",
            "zerolinecolor": "white"
           }
          },
          "shapedefaults": {
           "line": {
            "color": "#2a3f5f"
           }
          },
          "ternary": {
           "aaxis": {
            "gridcolor": "white",
            "linecolor": "white",
            "ticks": ""
           },
           "baxis": {
            "gridcolor": "white",
            "linecolor": "white",
            "ticks": ""
           },
           "bgcolor": "#E5ECF6",
           "caxis": {
            "gridcolor": "white",
            "linecolor": "white",
            "ticks": ""
           }
          },
          "title": {
           "x": 0.05
          },
          "xaxis": {
           "automargin": true,
           "gridcolor": "white",
           "linecolor": "white",
           "ticks": "",
           "title": {
            "standoff": 15
           },
           "zerolinecolor": "white",
           "zerolinewidth": 2
          },
          "yaxis": {
           "automargin": true,
           "gridcolor": "white",
           "linecolor": "white",
           "ticks": "",
           "title": {
            "standoff": 15
           },
           "zerolinecolor": "white",
           "zerolinewidth": 2
          }
         }
        },
        "width": 800
       }
      }
     },
     "metadata": {},
     "output_type": "display_data"
    }
   ],
   "source": [
    "\n",
    "# Create the map\n",
    "fig = px.scatter_map(\n",
    "    df,\n",
    "    lat='Latitude',\n",
    "    lon='Longitude',\n",
    "    hover_name='Location',\n",
    "    hover_data={\n",
    "        'Location': True,\n",
    "        'Event_grouped': True,\n",
    "        'Year_years': True\n",
    "    },\n",
    "    size='Event Count',\n",
    "    width=800,\n",
    "    height=600,\n",
    "    zoom=3.2,\n",
    "    map_style= 'carto-positron'\n",
    "    )\n",
    "\n",
    "# Update marker styling\n",
    "fig.update_traces(\n",
    "    marker=dict(\n",
    "        opacity=0.55,\n",
    "        color=\"#7b61a7\",\n",
    "    ),\n",
    "    hovertemplate='<b>%{customdata[0]}</b>'+\n",
    "                  '<br>%{customdata[1]}'+\n",
    "                  '<br>%{customdata[2]}'\n",
    ")\n",
    "\n",
    "# Update layout for better aesthetics\n",
    "fig.update_layout(\n",
    "    font=dict(size=12),\n",
    "    margin=dict(l=0, r=0, t=0, b=0),\n",
    "    showlegend=False  # Hide the legend\n",
    ")\n",
    "\n",
    "# Show the map\n",
    "fig.show()\n",
    "fig.write_html(\"conferencemap.html\")\n"
   ]
  }
 ],
 "metadata": {
  "kernelspec": {
   "display_name": "Python 3",
   "language": "python",
   "name": "python3"
  },
  "language_info": {
   "codemirror_mode": {
    "name": "ipython",
    "version": 3
   },
   "file_extension": ".py",
   "mimetype": "text/x-python",
   "name": "python",
   "nbconvert_exporter": "python",
   "pygments_lexer": "ipython3",
   "version": "3.11.9"
  }
 },
 "nbformat": 4,
 "nbformat_minor": 5
}
